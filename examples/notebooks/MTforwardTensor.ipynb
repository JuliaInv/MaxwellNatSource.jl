{
 "cells": [
  {
   "cell_type": "code",
   "execution_count": 1,
   "metadata": {
    "collapsed": false
   },
   "outputs": [
    {
     "data": {
      "text/plain": [
       "phase (generic function with 1 method)"
      ]
     },
     "execution_count": 1,
     "metadata": {},
     "output_type": "execute_result"
    }
   ],
   "source": [
    "using MaxwellNatSource\n",
    "using MaxwellUtils\n",
    "using MaxwellFrequency\n",
    "using jInv.Mesh\n",
    "using jInv.LinearSolvers\n",
    "using jInv.Utils\n",
    "using PyPlot\n",
    "\n",
    "mu0 = 4*pi*1e-7;\n",
    "phase(x) = rad2deg(atan(real(x)./imag(x)))"
   ]
  },
  {
   "cell_type": "markdown",
   "metadata": {
    "collapsed": true
   },
   "source": [
    "## Setup the mesh"
   ]
  },
  {
   "cell_type": "code",
   "execution_count": 2,
   "metadata": {
    "collapsed": false
   },
   "outputs": [
    {
     "name": "stdout",
     "output_type": "stream",
     "text": [
      "Mesh contains 5832 cells\n"
     ]
    }
   ],
   "source": [
    "cs = 10\n",
    "ncore = 8\n",
    "npad = 5\n",
    "\n",
    "pad = round(cs*1.5.^[1:npad;])\n",
    "\n",
    "hx = [flipdim(pad,1); cs*ones(ncore); pad]\n",
    "hy = [flipdim(pad,1); cs*ones(ncore); pad]\n",
    "hz = [flipdim(pad,1); cs*ones(ncore); pad]\n",
    "\n",
    "x0  = [-sum(hx)/2, -sum(hy)/2, -sum(hz)/2]\n",
    "\n",
    "msh = getTensorMesh3D(hx,hy,hz,x0)\n",
    "println(\"Mesh contains $(msh.nc) cells\")\n",
    ";"
   ]
  },
  {
   "cell_type": "markdown",
   "metadata": {},
   "source": [
    "## Setup the model"
   ]
  },
  {
   "cell_type": "code",
   "execution_count": 3,
   "metadata": {
    "collapsed": false
   },
   "outputs": [],
   "source": [
    "gcc = getCellCenteredGrid(msh)\n",
    "sig = 0.01\n",
    "sigma = 1e-8*ones(msh.nc)\n",
    "sigma[gcc[:,3].<0.] = sig\n",
    ";"
   ]
  },
  {
   "cell_type": "markdown",
   "metadata": {},
   "source": [
    "## Setup forward problem"
   ]
  },
  {
   "cell_type": "code",
   "execution_count": 4,
   "metadata": {
    "collapsed": true
   },
   "outputs": [],
   "source": [
    "Srcs = [[0.0 0.0 0.0; 0.0 0.0 0.0]]\n",
    "\n",
    "omegas = logspace(0,3,5)*2*pi\n",
    "\n",
    "Recs = Array(Array{Float64},4)\n",
    "Recs[1] = [-0.5 0. 0.; \n",
    "           0.5 0. 0.]\n",
    "Recs[2] = [0. -0.5 0.;\n",
    "           0. 0.5 0.]\n",
    "Recs[3] = [0.0  -0.5  -0.5;\n",
    "           0.0  -0.5   0.5;\n",
    "           0.0   0.5   0.5;\n",
    "           0.0   0.5  -0.5;\n",
    "           0.0  -0.5  -0.5]\n",
    "Recs[4] = [-0.5  0.0  -0.5;\n",
    "           -0.5  0.0   0.5;\n",
    "            0.5  0.0   0.5;\n",
    "            0.5  0.0  -0.5;\n",
    "           -0.5  0.0  -0.5]\n",
    "\n",
    "Dobs = [complex(0,0)]\n",
    "Wd = [complex(0,0)]\n",
    "\n",
    "trx = Array(TransmitterOmega, length(omegas))\n",
    "for (i, w) in enumerate(omegas)\n",
    "    trx[i] = TransmitterOmega( Srcs, w, Recs, Dobs, Wd )\n",
    "end\n",
    "\n",
    "Obs = getAllObs( trx, msh );\n",
    "\n",
    "linSolParam = getMUMPSsolver([],1,0,2);\n",
    "\n",
    "Sources = Array(Complex128, 0, 0)\n",
    "fields = Array(Complex128, 0, 0)\n",
    "pFor = Array(MaxwellFreqParam, length(trx))\n",
    "for i in 1:length(trx)\n",
    "    pFor[i] = getMaxwellFreqParam(msh, Sources, Obs[i], fields, trx[i].omega, linSolParam);\n",
    "end\n",
    ";"
   ]
  },
  {
   "cell_type": "markdown",
   "metadata": {},
   "source": [
    "## Run the forward problem"
   ]
  },
  {
   "cell_type": "code",
   "execution_count": 5,
   "metadata": {
    "collapsed": false
   },
   "outputs": [],
   "source": [
    "for i in 1:length(trx)\n",
    "    pFor[i] = calcMTSources( sigma, pFor[i], true );\n",
    "end\n",
    "\n",
    "DDs = Array(Array{Complex{Float64}}, length(trx))\n",
    "zdpreds = Array(Array{Complex{Float64}}, length(trx))\n",
    "for i in 1:length(trx)\n",
    "    DDs[i], pFor[i] = getData( sigma, pFor[i], true );\n",
    "    zdpreds[i] = calcMTdata(DDs[i]);\n",
    "end"
   ]
  },
  {
   "cell_type": "code",
   "execution_count": null,
   "metadata": {
    "collapsed": true
   },
   "outputs": [],
   "source": []
  },
  {
   "cell_type": "markdown",
   "metadata": {},
   "source": [
    "# Results"
   ]
  },
  {
   "cell_type": "code",
   "execution_count": 6,
   "metadata": {
    "collapsed": false
   },
   "outputs": [],
   "source": [
    "Zc = zeros(Complex128, length(trx))\n",
    "for i in 1:length(trx)\n",
    "    Zc[i] = zdpreds[i][1,2,1]\n",
    "end\n",
    "\n",
    "Z = zeros(Complex128, length(trx))\n",
    "for i in 1:length(trx)\n",
    "    k = sqrt(-im*trx[i].omega*mu0*sig)\n",
    "    Z[i] = mu0*im*trx[i].omega/k\n",
    "end\n"
   ]
  },
  {
   "cell_type": "code",
   "execution_count": 7,
   "metadata": {
    "collapsed": false
   },
   "outputs": [
    {
     "data": {
      "image/png": "[encoded data removed]",
      "text/plain": [
       "PyPlot.Figure(PyObject <matplotlib.figure.Figure object at 0x324518c50>)"
      ]
     },
     "metadata": {},
     "output_type": "display_data"
    }
   ],
   "source": [
    "clf()\n",
    "loglog(omegas./(2*pi), abs(real(Z)),\"-ko\")\n",
    "loglog(omegas./(2*pi), abs(real(Zc)),\"-r.\")\n",
    "loglog(omegas./(2*pi), abs(imag(Zc)),\"--r.\")\n",
    "show()"
   ]
  },
  {
   "cell_type": "code",
   "execution_count": 8,
   "metadata": {
    "collapsed": false
   },
   "outputs": [
    {
     "data": {
      "image/png": "[encoded data removed]",
      "text/plain": [
       "PyPlot.Figure(PyObject <matplotlib.figure.Figure object at 0x32b3c5ac8>)"
      ]
     },
     "metadata": {},
     "output_type": "display_data"
    }
   ],
   "source": [
    "axhline(-45)\n",
    "semilogx(omegas./(2*pi), phase(Zc), \"-ko\")\n",
    "# ylim(-50, -30)\n",
    "show()"
   ]
  },
  {
   "cell_type": "code",
   "execution_count": null,
   "metadata": {
    "collapsed": true
   },
   "outputs": [],
   "source": []
  }
 ],
 "metadata": {
  "kernelspec": {
   "display_name": "Julia 0.5.1-pre",
   "language": "julia",
   "name": "julia-0.5"
  },
  "language_info": {
   "file_extension": ".jl",
   "mimetype": "application/julia",
   "name": "julia",
   "version": "0.5.1"
  }
 },
 "nbformat": 4,
 "nbformat_minor": 2
}
