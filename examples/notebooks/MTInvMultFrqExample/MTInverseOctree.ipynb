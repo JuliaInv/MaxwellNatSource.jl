{
 "cells": [
  {
   "cell_type": "code",
   "execution_count": null,
   "metadata": {
    "collapsed": false
   },
   "outputs": [],
   "source": [
    "addprocs(3)\n",
    "\n",
    "using JOcTree\n",
    "using MaxwellUtils\n",
    "using MaxwellFrequency\n",
    "using jInv.LinearSolvers\n",
    "using jInv.InverseSolve\n",
    "using MaxwellNatSource\n",
    "using jInv.Utils\n",
    "using jInv.Mesh"
   ]
  },
  {
   "cell_type": "markdown",
   "metadata": {},
   "source": [
    "## Read mesh and true model"
   ]
  },
  {
   "cell_type": "code",
   "execution_count": null,
   "metadata": {
    "collapsed": false
   },
   "outputs": [],
   "source": [
    "Minv = importOcTreeMeshRoman(\"meshInv.txt\")\n",
    "sigmamodel = importOcTreeModelRoman(\"model_blocks.con\", Minv);\n",
    ";"
   ]
  },
  {
   "cell_type": "markdown",
   "metadata": {},
   "source": [
    "## Setup survey"
   ]
  },
  {
   "cell_type": "code",
   "execution_count": null,
   "metadata": {
    "collapsed": false
   },
   "outputs": [],
   "source": [
    "datafile = [ \"data_locations.txt\",\n",
    "             \"trx_dummy.txt\",\n",
    "             \"receiver_locations.txt\",\n",
    "             \"frequencies.txt\" ]\n",
    "\n",
    "topofile = 0.\n",
    "\n",
    "trxTmp, h, itopo = setupMeshParam(datafile, topofile, \n",
    "                               Minv.n,Minv.x0,Minv.n.*Minv.h;\n",
    "                               only_loc=true)\n",
    "\n",
    "frq = [10. 30. 100.]\n",
    "\n",
    "trx = Array{TransmitterOmega}(length(frq))\n",
    "\n",
    "for (i, f) in enumerate(frq)\n",
    "    trx[i] = TransmitterOmega(copy(trxTmp[1].Srcs), \n",
    "                              2*pi*f, \n",
    "                              copy(trxTmp[1].Recs), \n",
    "                              copy(trxTmp[1].Dobs), \n",
    "                              copy(trxTmp[1].Wd))\n",
    "end\n",
    ";"
   ]
  },
  {
   "cell_type": "markdown",
   "metadata": {},
   "source": [
    "## Generate initial model"
   ]
  },
  {
   "cell_type": "code",
   "execution_count": null,
   "metadata": {
    "collapsed": false
   },
   "outputs": [],
   "source": [
    "halfSpaceCond = 1e-2\n",
    "backCond      = 1.e-8\n",
    "\n",
    "gcc = getCellCenteredGrid(Minv)\n",
    "isactive = gcc[:,3].<0.\n",
    "nactive    = sum(isactive)\n",
    "nnotactive = length(isactive) - nactive\n",
    "\n",
    "# model a half space\n",
    "sigma    = ones(nactive)*halfSpaceCond\n",
    "sigmaBck = ones(nnotactive)*backCond\n",
    "\n",
    "Iact    = speye(Bool,Minv.nc)\n",
    "Iact    = Iact[:,find(isactive)]\n",
    "IactBck = speye(Bool,Minv.nc)\n",
    "IactBck = IactBck[:,find(!isactive)]\n",
    ";"
   ]
  },
  {
   "cell_type": "markdown",
   "metadata": {},
   "source": [
    "## Generate interpolation"
   ]
  },
  {
   "cell_type": "code",
   "execution_count": null,
   "metadata": {
    "collapsed": false
   },
   "outputs": [],
   "source": [
    "tic()\n",
    "Obs = getAllObs( trx, Minv )\n",
    "toc()\n",
    ";"
   ]
  },
  {
   "cell_type": "markdown",
   "metadata": {
    "collapsed": true
   },
   "source": [
    "## Setup pFor"
   ]
  },
  {
   "cell_type": "code",
   "execution_count": null,
   "metadata": {
    "collapsed": false
   },
   "outputs": [],
   "source": [
    "linSolParam = getMUMPSsolver([],1,0,2)\n",
    "\n",
    "nFreqs = length(trx)\n",
    "pFor = Array(RemoteChannel,nFreqs)\n",
    "workerList = workers()\n",
    "nw = length(workerList)\n",
    "for i = 1:nFreqs\n",
    "   Sources = Array(Complex128, 0, 0)\n",
    "   fields = Array(Complex128, 0, 0)\n",
    "   pFor[i] = initRemoteChannel(getMaxwellFreqParam, workerList[i%nw+1],\n",
    "                               Minv, Sources, Obs[i], fields,\n",
    "                               trx[i].omega, linSolParam)\n",
    "end\n"
   ]
  },
  {
   "cell_type": "markdown",
   "metadata": {},
   "source": [
    "## Calculate Sources"
   ]
  },
  {
   "cell_type": "code",
   "execution_count": null,
   "metadata": {
    "collapsed": false
   },
   "outputs": [],
   "source": [
    "tic()\n",
    "pFor = calcMTSources(sigmamodel, pFor, true)\n",
    "toc()"
   ]
  },
  {
   "cell_type": "markdown",
   "metadata": {},
   "source": [
    "## Calculate true data"
   ]
  },
  {
   "cell_type": "code",
   "execution_count": null,
   "metadata": {
    "collapsed": false
   },
   "outputs": [],
   "source": [
    "tic()\n",
    "DD, pFor = getData( sigmamodel, pFor, ones(length(pFor)), true );\n",
    "toc()"
   ]
  },
  {
   "cell_type": "code",
   "execution_count": null,
   "metadata": {
    "collapsed": false
   },
   "outputs": [],
   "source": [
    "println(\"Setup Inverse Param\")\n",
    "\n",
    "Dobs  = Array{Array{Complex128}}(nFreqs)\n",
    "Wd    = Array{Array{Complex128}}(nFreqs)\n",
    "\n",
    "\n",
    "for itx in 1:length(trx)\n",
    "    trx[itx].Dobs = calcMTdata(fetch(DD[itx]))\n",
    "\n",
    "    trx[itx].Wd = complex( 1.0 ./ (abs(real(trx[itx].Dobs))*0.01+1.e-5) ,\n",
    "                           1.0 ./ (abs(imag(trx[itx].Dobs))*0.01+1.e-5) );\n",
    "\n",
    "    Dobs[itx] = trx[itx].Dobs\n",
    "      Wd[itx] = trx[itx].Wd\n",
    "end\n",
    ";"
   ]
  },
  {
   "cell_type": "markdown",
   "metadata": {},
   "source": [
    "## Setup pInv"
   ]
  },
  {
   "cell_type": "code",
   "execution_count": null,
   "metadata": {
    "collapsed": false
   },
   "outputs": [],
   "source": [
    "# lower bounds\n",
    "BL = 1e-6\n",
    "# Higher bounds\n",
    "BH = 1e+4\n",
    "# misfit function\n",
    "misfun = misRatio\n",
    "\n",
    "# Regularization function\n",
    "regfun = wdiffusionReg\n",
    "# parameters for the regularization function\n",
    "regparams = [sqrt(1.0), sqrt(1.0), sqrt(1.0), 5e-7]  # alphax  alphay  alphaz  alphas\n",
    "\n",
    "#  inner CG iter\n",
    "cgit = 10 \n",
    "# maximum iter for the inversion\n",
    "maxit = 6\n",
    "\n",
    "# model parameter is log conductivity\n",
    "modfun = expMod\n",
    "\n",
    "beta = 1e-32\n",
    ";\n",
    "\n",
    "sigmaBackground = IactBck * sigmaBck\n",
    "mref = fill(log(halfSpaceCond), size(Iact,2))\n",
    "\n",
    "boundsLow  = fill(log(BL),size(Iact,2)) \n",
    "boundsHigh = fill(log(BH),size(Iact,2))    \n",
    "\n",
    "pMisRF = getMisfitParam(pFor, Wd, Dobs, misfun,Iact,sigmaBackground)\n",
    ";\n",
    "\n",
    "regfunw(m,mreff,Mm) = wdiffusionReg(m,mreff,Mm,Iact=Iact,C=regparams)"
   ]
  },
  {
   "cell_type": "code",
   "execution_count": null,
   "metadata": {
    "collapsed": false
   },
   "outputs": [],
   "source": [
    "pInv = getInverseParam(Minv,modfun,regfunw,beta,mref,\n",
    "                       boundsLow,boundsHigh,\n",
    "                       pcgMaxIter=cgit,maxIter=maxit);"
   ]
  },
  {
   "cell_type": "markdown",
   "metadata": {},
   "source": [
    "## Run inversion"
   ]
  },
  {
   "cell_type": "code",
   "execution_count": null,
   "metadata": {
    "collapsed": false
   },
   "outputs": [],
   "source": [
    "m0 = fill(log(halfSpaceCond), size(Iact,2));"
   ]
  },
  {
   "cell_type": "code",
   "execution_count": null,
   "metadata": {
    "collapsed": false
   },
   "outputs": [],
   "source": [
    "mc,Dc,flag = projGNCG(m0,pInv,pMisRF)"
   ]
  },
  {
   "cell_type": "code",
   "execution_count": null,
   "metadata": {
    "collapsed": false
   },
   "outputs": [],
   "source": [
    "e"
   ]
  },
  {
   "cell_type": "code",
   "execution_count": null,
   "metadata": {
    "collapsed": false
   },
   "outputs": [],
   "source": [
    "exportOcTreeModelRoman(\"inv.con\", Minv, (Iact*(e.^mc)) + sigmaBackground);"
   ]
  }
 ],
 "metadata": {
  "kernelspec": {
   "display_name": "Julia 0.5.1-pre",
   "language": "julia",
   "name": "julia-0.5"
  },
  "language_info": {
   "file_extension": ".jl",
   "mimetype": "application/julia",
   "name": "julia",
   "version": "0.5.1"
  }
 },
 "nbformat": 4,
 "nbformat_minor": 2
}
